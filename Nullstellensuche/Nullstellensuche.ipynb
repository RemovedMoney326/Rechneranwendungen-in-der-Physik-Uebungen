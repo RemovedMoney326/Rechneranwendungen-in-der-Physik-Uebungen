{
 "cells": [
  {
   "cell_type": "markdown",
   "metadata": {},
   "source": [
    "Rechneranwendungen in der Physik - Übung N.4 "
   ]
  },
  {
   "cell_type": "markdown",
   "metadata": {},
   "source": [
    "Santiago.R (in Zusammenarbeit mit Diego Rubio Carrera)"
   ]
  },
  {
   "cell_type": "code",
   "execution_count": 2,
   "metadata": {
    "colab": {},
    "colab_type": "code",
    "id": "CCXdJ7dimSeW"
   },
   "outputs": [],
   "source": [
    "import numpy as np\n",
    "import sympy as sy\n",
    "from scipy import optimize\n",
    "import matplotlib.pyplot as plt"
   ]
  },
  {
   "cell_type": "markdown",
   "metadata": {},
   "source": [
    "Zuerst werden beide Suchfunktionen mit den jeweils wählbaren Parametern der Funktion und Startwerte als Variablen definiert."
   ]
  },
  {
   "cell_type": "markdown",
   "metadata": {
    "colab_type": "text",
    "id": "gLAMGsjim91Z"
   },
   "source": [
    "# Bisektionsmethode"
   ]
  },
  {
   "cell_type": "markdown",
   "metadata": {},
   "source": [
    "Die Bisektionsmethode beruht auf das sukzessive Prüfen eines Intervalls $[x1,x2]$ auf Nullstellen mit der Annahme, dass für $f(x1)*f(x2)<0$ eine Nullstelle im Intervall vorhanden sein muss. Dies ist auch wahr für Funktionen wo eine Nullstelle mit einem Vorzeichenwechsel vorliegt, was auch in den meisten Fällen zutrifft, aber bspw. bei $f(x)=x^2$ liegt eine Nullstelle bei $x_0=0$ im Intervall $[-1,1]$ vor, obwohl $f(-1)*f(1)=+1>0$ gilt. Diese Methode funktioniert somit auschließlich für Nullstellen mit Vorzeichenwechsel d.h. für $f(x_0)=0 \\Rightarrow f'(x_0) \\neq 0$. Ist dies der Fall wird die Nullstellensuche auf immer kleinere Intervalle $[x_1,x_3]$ geprüft mit $x_3=\\frac{x2-x1}{2}$ bis der Bereich unterhalb eines Toleranzgebietes eingeschränkt und die Nullstellensuche abgebrochen wird."
   ]
  },
  {
   "cell_type": "code",
   "execution_count": 3,
   "metadata": {
    "colab": {},
    "colab_type": "code",
    "id": "YgJeH5kamjGU"
   },
   "outputs": [],
   "source": [
    "def Bisektionsuchfunktion(f, x1, x2, tol=1e-8):\n",
    "    \"\"\"Annähernde Lösung für f(x_0)=0 mithilfe der Bisektionsmethode.\n",
    "\n",
    "    Parameter\n",
    "    ----------\n",
    "    f : (function)\n",
    "        Die Funktion für die die Nullstelle x0 mit f(x0)=0 gesucht werden soll.\n",
    "    x1,x2 : (floats)\n",
    "        Startwerte für den Intervall, in dem nach der Funktion gesucht werden soll. x1 muss kleiner als x2 sein\n",
    "        und eine Nullstelle mit Vorzeichenwechsel muss im gegeben Intervall vorliegen, ansonstens gibt die Funktion\n",
    "        einen Fehler als Output an.\n",
    "    tol : (positive floats)\n",
    "        Toleranz des eingeschränkten Gebietes.\n",
    "\n",
    "    Returns\n",
    "    -------\n",
    "    Nullstelle und Iterationsnummer: (floats)\n",
    "        Die Nullstelle, die durch das sukzessive einschränken des Nullstellenintervalls angenähert wird sowie die Iterationsnummer n.\n",
    "        Sind x1 und x2 gleich bis auf eine Differenz unterhalb des Toleranzgebietes, dann wird der Mittelpunkt\n",
    "        x3 zwischen beiden als Nullstelle angenohmen und als Output der Bisektionssuchfunktion herausgegeben.\n",
    "    \"\"\"\n",
    "    \n",
    "    n = 0 # Iterationsnummer \n",
    "    \n",
    "    if f(x1)*f(x2) < 0 and x1<x2:\n",
    "\n",
    "        f_Links = f(x1)\n",
    "\n",
    "        while True:\n",
    "            \n",
    "            x_3 = (x1 + x2)/2 #Bilden des Mittelpunktes \n",
    "            f_Rechts = f(x_3) #Funktionswert des Mittelpunktes\n",
    "            n += 1 #aktualisieren der Iterationsnummer\n",
    "            if f_Rechts == 0 or (x2 - x1)/np.abs(x2 + x1) < tol: #Nullstellentest \n",
    "                Nullstelle = x_3\n",
    "                break\n",
    "\n",
    "            elif f_Links*f_Rechts < 0: \n",
    "                x2 = x_3\n",
    "                \n",
    "            else:\n",
    "                x1 = x_3\n",
    "                f_Links = f_Rechts\n",
    "        Iterationsnummer = n    \n",
    "        return Nullstelle, Iterationsnummer\n",
    "    \n",
    "    else:\n",
    "        print(\"Fehler (Die Bisektion kann keine Nullstelle im ggb. Intervall finden)\")"
   ]
  },
  {
   "cell_type": "markdown",
   "metadata": {},
   "source": [
    "Test der Suchfunktion an einer Funktion $f(x)=x^3+x^2-10$ mit reeller Nullstelle und Vorzeichenwechsel an $x_0$"
   ]
  },
  {
   "cell_type": "code",
   "execution_count": 4,
   "metadata": {
    "colab": {
     "base_uri": "https://localhost:8080/",
     "height": 299
    },
    "colab_type": "code",
    "id": "qieDx_0fmjwZ",
    "outputId": "6394fc9e-aa7c-4fc9-935e-d4c6dfc3dd43"
   },
   "outputs": [
    {
     "data": {
      "text/plain": [
       "(1.8674600273370743, 28)"
      ]
     },
     "execution_count": 4,
     "metadata": {},
     "output_type": "execute_result"
    },
    {
     "data": {
      "image/png": "[encoded data removed]",
      "text/plain": [
       "<Figure size 432x288 with 1 Axes>"
      ]
     },
     "metadata": {
      "needs_background": "light"
     },
     "output_type": "display_data"
    }
   ],
   "source": [
    "f = lambda x: x**3+x**2-10\n",
    "x = np.linspace(-5,5)\n",
    "plt.plot(x,f(x))\n",
    "plt.plot(x,np.zeros_like(x))\n",
    "plt.plot()\n",
    "Bisektionsuchfunktion( f , x1=0, x2=4) # test der Funktion ''"
   ]
  },
  {
   "cell_type": "markdown",
   "metadata": {
    "colab_type": "text",
    "id": "sYbWs5GqnA6l"
   },
   "source": [
    "# Sekantenverfahren"
   ]
  },
  {
   "cell_type": "markdown",
   "metadata": {},
   "source": [
    "Der hier angewandte Sekantenverfahren beruht auf einer Vereinfachung des Newton-Raphson Verfahrens, bei dem die Nullstellensuche mithilfe der sukzessiven Berechnung der Nullstellen $x_{n+1}=x_n-\\frac{f(x_n)}{f'(x_n)}$ einer Sekante mit $f'(x)=\\frac{f(x_1+1e-4)-f(x_1)}{1e-4}$ angenähert wird. Somit werden in der Sekantensuchfunktion die Werte $x_{n+1}=x_n-\\frac{f(x_n)*1e-4}{f(x_1+1e-4)-f(x_1)}$ sukzessiv berechnet, bis der gefundene Wert $x_{n+1}$ mit $f(x_{n+1})$ entweder $0$ ergibt oder unterhalb des Toleranzbereichs $tol=1e-8$ liegt. Ein Vorteil dieser Methode ist das auch Nullstellen ohne Vorzeichenwechsel ermittelt werden können, da die Sekanten auf die nähesten Funktionswerte zur X-Achse konvergieren, unabhängig vom Vorzeichen. Man braucht auch nicht zu wissen, im welchen Bereich die Nullstelle sein muss, denn bei genügend Iterationen wird das Sekantenverfahren trotzdem konvergieren. Ein Nachteil ist aber, dass bei mehreren Nullstellen es unintuitiv sein kann zu wissen, welche Nullstelle mit welchem Startparameter nun von der Sekantensuchfunktion berechnet wird. Außerdem funktioniert dieses Verfahren nicht, wenn $f'(x_0) \\rightarrow 0$ geht, da nicht durch 0 dividiert werden kann."
   ]
  },
  {
   "cell_type": "code",
   "execution_count": 5,
   "metadata": {
    "colab": {},
    "colab_type": "code",
    "id": "RTvnvXVanBX8"
   },
   "outputs": [],
   "source": [
    "def Sekantensuchfunktion(f, x_0, tol=1e-8):\n",
    "\n",
    "  \"\"\"Annähernde Lösung f(x)=0 mit einem Startparameter x_0 mithilfe des Sekantenverfahrens.\n",
    "\n",
    "    Parameter\n",
    "    ----------\n",
    "    f : (function)\n",
    "        Die Funktion f(x) in der die Nullstelle gesucht wird.\n",
    "    x_0 : (floats)\n",
    "        Anfangswert der Sekantenmethode.\n",
    "    tol : (positive floats)\n",
    "        Toleranz.\n",
    "\n",
    "    Returns\n",
    "    -------\n",
    "    Nullstelle und Iterationsnummer : (floats)\n",
    "        X-Wert x_n+1 für den die Funktion unterhalb des Toleranzbereichs liegt und Iterationsnummer n.\n",
    "    \"\"\"\n",
    "    \n",
    "  n = 0 # Number of iteration\n",
    "  if (f(x_0+0.0001)-f(x_0)!=0):\n",
    "        while n<100:\n",
    "            \n",
    "            x_Nullstelle = x_0-(f(x_0)*0.0001/(f(x_0+0.0001)-f(x_0)))\n",
    "            x_0 = x_Nullstelle\n",
    "            n+=1 #aktualisieren der Iterationsnummer\n",
    "            Iterationsnummer=n\n",
    "            if f(x_Nullstelle) == 0 or np.abs(f(x_Nullstelle)) <= tol:\n",
    "                Nullstelle = x_Nullstelle\n",
    "                break\n",
    "            \n",
    "\n",
    "  \n",
    "  else:\n",
    "        Iterationsnummer = 0\n",
    "        Nullstelle = 0\n",
    "        print(f\"Fehler: Steigung der Sekante ist gleich 0\")\n",
    "   \n",
    "  \n",
    "  return Nullstelle, Iterationsnummer"
   ]
  },
  {
   "cell_type": "markdown",
   "metadata": {},
   "source": [
    "Test der Suchfunktion an einer Funktion $f(x)=x^3+x^2-10$ mit reeller Nullstelle und Vorzeichenwechsel an $x_0$"
   ]
  },
  {
   "cell_type": "code",
   "execution_count": 6,
   "metadata": {
    "colab": {
     "base_uri": "https://localhost:8080/",
     "height": 301
    },
    "colab_type": "code",
    "id": "YZQfuU8yrn1L",
    "outputId": "975d332e-04ab-49b2-b178-cb7bd24edb9a"
   },
   "outputs": [
    {
     "data": {
      "text/plain": [
       "(1.8674600246046584, 32)"
      ]
     },
     "execution_count": 6,
     "metadata": {},
     "output_type": "execute_result"
    },
    {
     "data": {
      "image/png": "[encoded data removed]",
      "text/plain": [
       "<Figure size 432x288 with 1 Axes>"
      ]
     },
     "metadata": {
      "needs_background": "light"
     },
     "output_type": "display_data"
    }
   ],
   "source": [
    "g = lambda x: x**3+x**2-10\n",
    "x = np.linspace(-5,5)\n",
    "\n",
    "plt.plot(x,g(x))\n",
    "plt.plot(x,np.zeros_like(x))\n",
    "\n",
    "Sekantensuchfunktion(g, 0)"
   ]
  },
  {
   "cell_type": "markdown",
   "metadata": {
    "colab_type": "text",
    "id": "sYbWs5GqnA6l"
   },
   "source": [
    "# Test der Nullstellensuchfunktionen für $f(x)=(x+\\frac{1}{2})^n -2$ mit n=1,2,3,4"
   ]
  },
  {
   "cell_type": "code",
   "execution_count": 7,
   "metadata": {},
   "outputs": [
    {
     "data": {
      "image/png": "[encoded data removed]",
      "text/plain": [
       "<Figure size 432x288 with 1 Axes>"
      ]
     },
     "metadata": {
      "needs_background": "light"
     },
     "output_type": "display_data"
    },
    {
     "name": "stdout",
     "output_type": "stream",
     "text": [
      "Die von der Bisektionssuchfunktion ermittelten Nullstellen und Iterationsnummer sind in aufsteigender Reihenfolge für n=1,2,3,4: [(1.5, 3), (0.9142135605216026, 29), (0.7599210515618324, 29), (0.6892071180045605, 30)]\n",
      "Die von der Sekantensuchfunktion ermittelten Nullstellen und Iterationsnummer sind in aufsteigender Reihenfolge für n=1,2,3,4: [(1.5000000000001654, 1), (0.9142135632713787, 5), (0.7599210500879978, 7), (0.68920711500458, 10)]\n"
     ]
    }
   ],
   "source": [
    "x = np.linspace(-2,2,num=20000)\n",
    "mylist1=[]\n",
    "mylist2=[]\n",
    "f = lambda x, i: (x+0.5)**i-2\n",
    "for i in range(1,5,1):\n",
    "    plt.plot(x, f(x,i),label=i)\n",
    "    g = lambda x: (x+0.5)**i-2\n",
    "    BNullstellen= Bisektionsuchfunktion( g , x1=0, x2=4)\n",
    "    SNullstellen= Sekantensuchfunktion( g , 0)\n",
    "    mylist1.append(BNullstellen)\n",
    "    mylist2.append(SNullstellen)\n",
    "plt.plot(x,np.zeros_like(x))\n",
    "plt.legend(title=\"Potenz n\",loc='upper right')\n",
    "plt.xlabel('X-Achse')\n",
    "plt.ylabel('Y-Achse')\n",
    "startx, endx = -2, 2\n",
    "starty, endy = -3, 3\n",
    "plt.axis([startx, endx, starty, endy])\n",
    "plt.show()\n",
    "print(\"Die von der Bisektionssuchfunktion ermittelten Nullstellen und Iterationsnummer sind in aufsteigender Reihenfolge für n=1,2,3,4:\", mylist1)\n",
    "print(\"Die von der Sekantensuchfunktion ermittelten Nullstellen und Iterationsnummer sind in aufsteigender Reihenfolge für n=1,2,3,4:\", mylist2)"
   ]
  },
  {
   "cell_type": "markdown",
   "metadata": {},
   "source": [
    "# Test der Sekantensuchfunktion für $f(x)=(x+\\frac{1}{2})^n -2$ mit n=1,2,3,4 und Startwerten $x_0 \\in [-2,2]$ mit $\\Delta x_0= 0.5$"
   ]
  },
  {
   "cell_type": "code",
   "execution_count": 8,
   "metadata": {},
   "outputs": [
    {
     "name": "stdout",
     "output_type": "stream",
     "text": [
      "Fehler: Steigung der Sekante ist gleich 0\n"
     ]
    },
    {
     "data": {
      "text/plain": [
       "Text(0, 0.5, 'Iterationszahl')"
      ]
     },
     "execution_count": 8,
     "metadata": {},
     "output_type": "execute_result"
    },
    {
     "data": {
      "image/png": "[encoded data removed]",
      "text/plain": [
       "<Figure size 432x288 with 1 Axes>"
      ]
     },
     "metadata": {
      "needs_background": "light"
     },
     "output_type": "display_data"
    }
   ],
   "source": [
    "mylistN=[]\n",
    "for i in range(1,5,1):\n",
    "    g = lambda x: (x+0.5)**i-2\n",
    "    for j in range(0,9,1):\n",
    "        N=Sekantensuchfunktion( g , j/2-2)\n",
    "        mylistN.append(N)  \n",
    "n = 1\n",
    "Iterationszahlen=[x[n] for x in mylistN]\n",
    "x=np.linspace(-2,2,num=9)\n",
    "plt.plot(x,Iterationszahlen[:9],label=1)\n",
    "plt.plot(x,Iterationszahlen[9:18],label=2)\n",
    "plt.plot(x,Iterationszahlen[18:27],label=3)\n",
    "plt.plot(x,Iterationszahlen[27:36],label=4)\n",
    "plt.legend(title=\"Potenz n\",loc='upper right')\n",
    "plt.xlabel('Startwert x_0')\n",
    "plt.ylabel('Iterationszahl')"
   ]
  },
  {
   "cell_type": "markdown",
   "metadata": {},
   "source": [
    "Da bei eins der Startwerte die Sekantensuchfunktion auf eine Stelle traf mit $f'(x_{n+1})=0$ wurde die Suchfunktion in dieser Iterationsfolge unterbrochen mit dem Output ''Fehler: Steigung der Sekante ist gleich 0''"
   ]
  }
 ],
 "metadata": {
  "colab": {
   "collapsed_sections": [],
   "name": "3_Exercise_CP_1_.ipynb",
   "provenance": []
  },
  "kernelspec": {
   "display_name": "Python 3",
   "language": "python",
   "name": "python3"
  },
  "language_info": {
   "codemirror_mode": {
    "name": "ipython",
    "version": 3
   },
   "file_extension": ".py",
   "mimetype": "text/x-python",
   "name": "python",
   "nbconvert_exporter": "python",
   "pygments_lexer": "ipython3",
   "version": "3.7.4"
  }
 },
 "nbformat": 4,
 "nbformat_minor": 4
}
